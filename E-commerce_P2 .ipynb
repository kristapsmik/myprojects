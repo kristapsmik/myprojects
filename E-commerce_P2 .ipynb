{
 "cells": [
  {
   "cell_type": "markdown",
   "id": "d8bae722",
   "metadata": {},
   "source": [
    "#### This project aims to analyze e-commerce data to gain insights into product and category trends, identify factors influencing web purchases, evaluate success of marketing campaigns and determine underperforming channels.\n",
    "\n",
    "### Project Outline\n",
    "\n",
    "1. Data Cleaning\n",
    "* Handling missing values (check for missing values in each column);\n",
    "* Removing duplicates (identify and remove duplicates to ensure data integrity).\n",
    "\n",
    "2. Data Analysis\n",
    "* Most frequent categories (identify most frequently sold categories);\n",
    "* Marketing campaign analysis (analyze success of different marketing campaigns by comparing with sales data);\n",
    "* Channel performance (assess performance of different channels by comparing engagement metrics. Identify underperforming channels);\n",
    "\n",
    "3. Data Visualization \n",
    "* Frequent categories (bar chart to show most frequent categories)."
   ]
  },
  {
   "cell_type": "code",
   "execution_count": 1,
   "id": "e608ce16",
   "metadata": {},
   "outputs": [],
   "source": [
    "import pandas as pd\n",
    "\n",
    "data = pd.read_csv(\"/Users/kristapsmikuckis/Desktop/E-Commerce.csv\")"
   ]
  },
  {
   "cell_type": "code",
   "execution_count": 2,
   "id": "506acfdc",
   "metadata": {},
   "outputs": [
    {
     "data": {
      "text/plain": [
       "ID                                0\n",
       "domain                            0\n",
       "categories                     1485\n",
       "city                           4804\n",
       "state                          4709\n",
       "estimated_monthly_sales        1105\n",
       "products_sold                     0\n",
       "platform                          0\n",
       "theme                             0\n",
       "technologies                    980\n",
       "estimated_monthly_pageviews     834\n",
       "estimated_monthly_visits        834\n",
       "facebook_url                   3392\n",
       "facebook_followers             4421\n",
       "instagram_url                  2804\n",
       "instagram_followers            5003\n",
       "instagram_posts                5067\n",
       "twitter_url                    7239\n",
       "twitter_followers              7423\n",
       "twitter_posts                  7439\n",
       "linkedin_url                   7374\n",
       "youtube_url                    7703\n",
       "youtube_followers              7813\n",
       "pinterest_url                  8830\n",
       "pinterest_followers            8995\n",
       "pinterest_posts                8919\n",
       "tiktok_url                     9169\n",
       "tiktok_followers               9287\n",
       "dtype: int64"
      ]
     },
     "execution_count": 2,
     "metadata": {},
     "output_type": "execute_result"
    }
   ],
   "source": [
    "null_values = data.isnull().sum()\n",
    "null_values"
   ]
  },
  {
   "cell_type": "code",
   "execution_count": 3,
   "id": "ac88f3cf",
   "metadata": {},
   "outputs": [
    {
     "name": "stdout",
     "output_type": "stream",
     "text": [
      "<class 'pandas.core.frame.DataFrame'>\n",
      "RangeIndex: 10000 entries, 0 to 9999\n",
      "Data columns (total 28 columns):\n",
      " #   Column                       Non-Null Count  Dtype  \n",
      "---  ------                       --------------  -----  \n",
      " 0   ID                           10000 non-null  int64  \n",
      " 1   domain                       10000 non-null  object \n",
      " 2   categories                   8515 non-null   object \n",
      " 3   city                         5196 non-null   object \n",
      " 4   state                        5291 non-null   object \n",
      " 5   estimated_monthly_sales      8895 non-null   object \n",
      " 6   products_sold                10000 non-null  int64  \n",
      " 7   platform                     10000 non-null  object \n",
      " 8   theme                        10000 non-null  object \n",
      " 9   technologies                 9020 non-null   object \n",
      " 10  estimated_monthly_pageviews  9166 non-null   float64\n",
      " 11  estimated_monthly_visits     9166 non-null   float64\n",
      " 12  facebook_url                 6608 non-null   object \n",
      " 13  facebook_followers           5579 non-null   float64\n",
      " 14  instagram_url                7196 non-null   object \n",
      " 15  instagram_followers          4997 non-null   float64\n",
      " 16  instagram_posts              4933 non-null   float64\n",
      " 17  twitter_url                  2761 non-null   object \n",
      " 18  twitter_followers            2577 non-null   float64\n",
      " 19  twitter_posts                2561 non-null   float64\n",
      " 20  linkedin_url                 2626 non-null   object \n",
      " 21  youtube_url                  2297 non-null   object \n",
      " 22  youtube_followers            2187 non-null   float64\n",
      " 23  pinterest_url                1170 non-null   object \n",
      " 24  pinterest_followers          1005 non-null   float64\n",
      " 25  pinterest_posts              1081 non-null   float64\n",
      " 26  tiktok_url                   831 non-null    object \n",
      " 27  tiktok_followers             713 non-null    float64\n",
      "dtypes: float64(11), int64(2), object(15)\n",
      "memory usage: 2.1+ MB\n"
     ]
    }
   ],
   "source": [
    "data.info()"
   ]
  },
  {
   "cell_type": "code",
   "execution_count": 4,
   "id": "35831433",
   "metadata": {},
   "outputs": [
    {
     "data": {
      "text/plain": [
       "0       False\n",
       "1       False\n",
       "2       False\n",
       "3       False\n",
       "4       False\n",
       "        ...  \n",
       "9995    False\n",
       "9996    False\n",
       "9997    False\n",
       "9998    False\n",
       "9999    False\n",
       "Length: 10000, dtype: bool"
      ]
     },
     "execution_count": 4,
     "metadata": {},
     "output_type": "execute_result"
    }
   ],
   "source": [
    "data.duplicated()"
   ]
  },
  {
   "cell_type": "code",
   "execution_count": 7,
   "id": "bb705dbb",
   "metadata": {},
   "outputs": [
    {
     "name": "stdout",
     "output_type": "stream",
     "text": [
      "Most frequently sold categories:\n",
      "processed_categories\n",
      "apparel                 16044844\n",
      "computers               13282310\n",
      "clothing_accessories    12903331\n",
      "computer_hardware       12481200\n",
      "laptops_notebooks        8289487\n",
      "food_drink               4728776\n",
      "desktop_computers        3512153\n",
      "books_literature         2071543\n",
      "beauty_fitness           1967558\n",
      "home_garden              1462501\n",
      "Name: products_sold, dtype: int64\n"
     ]
    }
   ],
   "source": [
    "from collections import Counter\n",
    "from itertools import chain\n",
    "import re\n",
    "\n",
    "def preprocess_categories(categories):\n",
    "    if pd.isna(categories):\n",
    "        return []\n",
    "    if not isinstance(categories, str):\n",
    "        return []\n",
    "    words = re.findall(r'\\b\\w+\\b', categories.lower())\n",
    "    return words\n",
    "\n",
    "data['processed_categories'] = data['categories'].apply(preprocess_categories)\n",
    "exploded_data = data.explode('processed_categories')\n",
    "category_sales = exploded_data.groupby('processed_categories')['products_sold'].sum()\n",
    "sorted_category_sales = category_sales.sort_values(ascending=False)\n",
    "most_frequent_categories = sorted_category_sales.head(10)\n",
    "print(\"Most frequently sold categories:\")\n",
    "print(most_frequent_categories)\n",
    "all_words = list(chain.from_iterable(data['processed_categories']))\n",
    "word_counter = Counter(all_words)"
   ]
  },
  {
   "cell_type": "code",
   "execution_count": 15,
   "id": "e3538c8c",
   "metadata": {},
   "outputs": [
    {
     "name": "stdout",
     "output_type": "stream",
     "text": [
      "Coefficients:\n",
      "const              4695.226541\n",
      "total_facebook        0.002851\n",
      "total_instagram      -0.002018\n",
      "total_twitter         0.002067\n",
      "total_pinterest       0.003954\n",
      "total_tiktok         -0.000503\n",
      "total_youtube         0.009519\n",
      "dtype: float64\n"
     ]
    }
   ],
   "source": [
    "import numpy as np\n",
    "import statsmodels.api as sm\n",
    "from sklearn.model_selection import train_test_split\n",
    "\n",
    "data['total_facebook'] = data['facebook_followers']\n",
    "data['total_instagram'] = data['instagram_followers'] + data['instagram_posts']\n",
    "data['total_twitter'] = data['twitter_followers'] + data['twitter_posts']\n",
    "data['total_pinterest'] = data['pinterest_followers'] + data['pinterest_posts']\n",
    "data['total_tiktok'] = data['tiktok_followers']\n",
    "data['total_youtube'] = data['youtube_followers']\n",
    "\n",
    "X = data[['total_facebook', 'total_instagram', 'total_twitter', 'total_pinterest', 'total_tiktok', 'total_youtube']]\n",
    "y = data['products_sold']\n",
    "X = X.fillna(X.mean())\n",
    "y = y.fillna(y.mean())\n",
    "X = sm.add_constant(X)\n",
    "\n",
    "print(\"Coefficients:\")\n",
    "print(model.params)"
   ]
  },
  {
   "cell_type": "code",
   "execution_count": 22,
   "id": "a8833f68",
   "metadata": {},
   "outputs": [
    {
     "name": "stdout",
     "output_type": "stream",
     "text": [
      "Underperforming channels based on followers:\n",
      "1. Twitter\n",
      "2. Pinterest\n",
      "3. TikTok\n",
      "4. YouTube\n",
      "5. Facebook\n",
      "6. Instagram\n",
      "\n",
      "Underperforming channels based on posts:\n",
      "1. Pinterest\n",
      "2. Twitter\n",
      "3. Instagram\n",
      "\n",
      "Channels with the most followers:\n",
      "1. Facebook\n",
      "2. Instagram\n",
      "3. Twitter\n",
      "4. YouTube\n",
      "5. TikTok\n",
      "6. Pinterest\n",
      "\n",
      "Channels with the most posts:\n",
      "1. Pinterest\n",
      "2. Twitter\n",
      "3. Instagram\n"
     ]
    }
   ],
   "source": [
    "engagement_columns = [\n",
    "    'facebook_followers', 'instagram_followers', 'instagram_posts',\n",
    "    'twitter_followers', 'twitter_posts', 'youtube_followers',\n",
    "    'pinterest_followers', 'pinterest_posts', 'tiktok_followers'\n",
    "]\n",
    "\n",
    "for column in engagement_columns:\n",
    "    data[column] = pd.to_numeric(data[column], errors='coerce').fillna(0)\n",
    "\n",
    "mean_followers = {\n",
    "    'Facebook': data['facebook_followers'].mean(),\n",
    "    'Instagram': data['instagram_followers'].mean(),\n",
    "    'Twitter': data['twitter_followers'].mean(),\n",
    "    'YouTube': data['youtube_followers'].mean(),\n",
    "    'Pinterest': data['pinterest_followers'].mean(),\n",
    "    'TikTok': data['tiktok_followers'].mean()\n",
    "}\n",
    "\n",
    "mean_posts = {\n",
    "    'Instagram': data['instagram_posts'].mean(),\n",
    "    'Twitter': data['twitter_posts'].mean(),\n",
    "    'Pinterest': data['pinterest_posts'].mean()\n",
    "}\n",
    "\n",
    "underperforming_followers_counts = {\n",
    "    'Facebook': (data['facebook_followers'] < mean_followers['Facebook']).sum(),\n",
    "    'Instagram': (data['instagram_followers'] < mean_followers['Instagram']).sum(),\n",
    "    'Twitter': (data['twitter_followers'] < mean_followers['Twitter']).sum(),\n",
    "    'YouTube': (data['youtube_followers'] < mean_followers['YouTube']).sum(),\n",
    "    'Pinterest': (data['pinterest_followers'] < mean_followers['Pinterest']).sum(),\n",
    "    'TikTok': (data['tiktok_followers'] < mean_followers['TikTok']).sum()\n",
    "}\n",
    "\n",
    "underperforming_posts_counts = {\n",
    "    'Instagram': (data['instagram_posts'] < mean_posts['Instagram']).sum(),\n",
    "    'Twitter': (data['twitter_posts'] < mean_posts['Twitter']).sum(),\n",
    "    'Pinterest': (data['pinterest_posts'] < mean_posts['Pinterest']).sum()\n",
    "}\n",
    "\n",
    "underperforming_followers_ranking = sorted(underperforming_followers_counts.items(), key=lambda x: x[1], reverse=True)\n",
    "underperforming_posts_ranking = sorted(underperforming_posts_counts.items(), key=lambda x: x[1], reverse=True)\n",
    "\n",
    "max_followers_ranking = sorted(mean_followers.items(), key=lambda x: x[1], reverse=True)\n",
    "max_posts_ranking = sorted(mean_posts.items(), key=lambda x: x[1], reverse=True)\n",
    "\n",
    "most_common_channels_counts = {\n",
    "    'Facebook': (data['facebook_followers'] > 0).sum(),\n",
    "    'Instagram': (data['instagram_followers'] > 0).sum(),\n",
    "    'Twitter': (data['twitter_followers'] > 0).sum(),\n",
    "    'YouTube': (data['youtube_followers'] > 0).sum(),\n",
    "    'Pinterest': (data['pinterest_followers'] > 0).sum(),\n",
    "    'TikTok': (data['tiktok_followers'] > 0).sum(),\n",
    "    'Instagram Posts': (data['instagram_posts'] > 0).sum(),\n",
    "    'Twitter Posts': (data['twitter_posts'] > 0).sum(),\n",
    "    'Pinterest Posts': (data['pinterest_posts'] > 0).sum()\n",
    "}\n",
    "\n",
    "most_common_channels_ranking = sorted(most_common_channels_counts.items(), key=lambda x: x[1], reverse=True)\n",
    "\n",
    "print(\"Underperforming channels based on followers:\")\n",
    "for rank, (channel, _) in enumerate(underperforming_followers_ranking, start=1):\n",
    "    print(f\"{rank}. {channel}\")\n",
    "\n",
    "print(\"\\nUnderperforming channels based on posts:\")\n",
    "for rank, (channel, _) in enumerate(underperforming_posts_ranking, start=1):\n",
    "    print(f\"{rank}. {channel}\")\n",
    "\n",
    "print(\"\\nChannels with the most followers:\")\n",
    "for rank, (channel, _) in enumerate(max_followers_ranking, start=1):\n",
    "    print(f\"{rank}. {channel}\")\n",
    "\n",
    "print(\"\\nChannels with the most posts:\")\n",
    "for rank, (channel, _) in enumerate(max_posts_ranking, start=1):\n",
    "    print(f\"{rank}. {channel}\")"
   ]
  },
  {
   "cell_type": "code",
   "execution_count": 25,
   "id": "58f01bb0",
   "metadata": {},
   "outputs": [
    {
     "data": {
      "image/png": "[encoded data removed]",
      "text/plain": [
       "<Figure size 1000x600 with 1 Axes>"
      ]
     },
     "metadata": {},
     "output_type": "display_data"
    }
   ],
   "source": [
    "import matplotlib.pyplot as plt\n",
    "\n",
    "def preprocess_categories(categories):\n",
    "    if pd.isna(categories):\n",
    "        return []\n",
    "    if not isinstance(categories, str):\n",
    "        return []\n",
    "    words = re.findall(r'\\b\\w+\\b', categories.lower())\n",
    "    return words\n",
    "\n",
    "data['processed_categories'] = data['categories'].apply(preprocess_categories)\n",
    "exploded_data = data.explode('processed_categories')\n",
    "category_sales = exploded_data.groupby('processed_categories')['products_sold'].sum()\n",
    "sorted_category_sales = category_sales.sort_values(ascending=False)\n",
    "most_frequent_categories = sorted_category_sales.head(10)\n",
    "\n",
    "plt.figure(figsize=(10, 6))\n",
    "most_frequent_categories.plot(kind='bar')\n",
    "plt.title('Most frequently sold categories')\n",
    "plt.xticks(rotation=45)\n",
    "plt.show()"
   ]
  }
 ],
 "metadata": {
  "kernelspec": {
   "display_name": "Python 3 (ipykernel)",
   "language": "python",
   "name": "python3"
  },
  "language_info": {
   "codemirror_mode": {
    "name": "ipython",
    "version": 3
   },
   "file_extension": ".py",
   "mimetype": "text/x-python",
   "name": "python",
   "nbconvert_exporter": "python",
   "pygments_lexer": "ipython3",
   "version": "3.10.9"
  }
 },
 "nbformat": 4,
 "nbformat_minor": 5
}
