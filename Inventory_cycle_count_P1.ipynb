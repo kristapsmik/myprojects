{
 "cells": [
  {
   "cell_type": "markdown",
   "id": "bc04ea6e",
   "metadata": {},
   "source": [
    "#### This project involves analyzing inventory cycle count data for an e-commerce company. The goal is to provide insights into inventory accuracy, establish optimal cycle count frequencies, identify discrepancies and recommend actionable improvements. The dataset contains columns for week, product name, inventory count, product ID, quantity and location.\n",
    "\n",
    "### Project Outline\n",
    "\n",
    "1. Data Cleaning and Transformation\n",
    "* Handling missing values and duplicates (identify missing or null values in each column. Find duplicate records and remove them);\n",
    "* Feature engineering (create new features from existing data).\n",
    "\n",
    "2. Data Analysis\n",
    "* Descriptive analysis (compute summary statistics for numerical columns, such as mean, median, and standard deviation);\n",
    "* Inventory trends (investigate how inventory counts change over time and across different weeks);\n",
    "* Cycle count frequencies (determine the frequency of cycle counts for various products. Assess if there is a link between cycle count frequency and inventory accuracy);\n",
    "* Discrepancies and errors (examine discrepancies between inventory counts and actual quantities. Pinpoint products or locations with higher error rates);\n",
    "* Location-based analysis (evaluate inventory accuracy based on location. Explore correlations between location and cycle count frequency).\n",
    "\n",
    "3. Data Visualization\n",
    "* Visualizing key metrics and trends (create bar plot and pie chart to represent the distribution of products and cycle count frequencies)."
   ]
  },
  {
   "cell_type": "code",
   "execution_count": 1,
   "id": "26a4c9ea",
   "metadata": {},
   "outputs": [],
   "source": [
    "import pandas as pd\n",
    "\n",
    "data = pd.read_csv(\"/Users/kristapsmikuckis/Desktop/Inventory_Cycle_Counting.csv\")"
   ]
  },
  {
   "cell_type": "code",
   "execution_count": 2,
   "id": "23a6cb24",
   "metadata": {},
   "outputs": [
    {
     "data": {
      "text/plain": [
       "Week               0\n",
       "Product Name       0\n",
       "Inventory Count    0\n",
       "Product ID         0\n",
       "Quantity           0\n",
       "Location           0\n",
       "dtype: int64"
      ]
     },
     "execution_count": 2,
     "metadata": {},
     "output_type": "execute_result"
    }
   ],
   "source": [
    "null_values = data.isnull().sum()\n",
    "null_values"
   ]
  },
  {
   "cell_type": "code",
   "execution_count": 3,
   "id": "f76d4369",
   "metadata": {},
   "outputs": [
    {
     "name": "stdout",
     "output_type": "stream",
     "text": [
      "<class 'pandas.core.frame.DataFrame'>\n",
      "RangeIndex: 2000 entries, 0 to 1999\n",
      "Data columns (total 6 columns):\n",
      " #   Column           Non-Null Count  Dtype \n",
      "---  ------           --------------  ----- \n",
      " 0   Week             2000 non-null   object\n",
      " 1   Product Name     2000 non-null   object\n",
      " 2   Inventory Count  2000 non-null   int64 \n",
      " 3   Product ID       2000 non-null   object\n",
      " 4   Quantity         2000 non-null   int64 \n",
      " 5   Location         2000 non-null   object\n",
      "dtypes: int64(2), object(4)\n",
      "memory usage: 93.9+ KB\n"
     ]
    }
   ],
   "source": [
    "data.info()"
   ]
  },
  {
   "cell_type": "code",
   "execution_count": 4,
   "id": "c8752ab7",
   "metadata": {},
   "outputs": [
    {
     "data": {
      "text/plain": [
       "0       False\n",
       "1       False\n",
       "2       False\n",
       "3       False\n",
       "4       False\n",
       "        ...  \n",
       "1995    False\n",
       "1996    False\n",
       "1997    False\n",
       "1998    False\n",
       "1999    False\n",
       "Length: 2000, dtype: bool"
      ]
     },
     "execution_count": 4,
     "metadata": {},
     "output_type": "execute_result"
    }
   ],
   "source": [
    "data.duplicated()"
   ]
  },
  {
   "cell_type": "code",
   "execution_count": 5,
   "id": "da561470",
   "metadata": {},
   "outputs": [
    {
     "name": "stdout",
     "output_type": "stream",
     "text": [
      "            Week          Product Name  Inventory Count Product ID  Quantity  \\\n",
      "0     2024-04-28        Wireless Mouse              498     PID000       411   \n",
      "1     2024-07-07        Wireless Mouse              317     PID000       396   \n",
      "2     2024-09-22        Wireless Mouse              377     PID000       157   \n",
      "3     2024-05-12        Wireless Mouse              195     PID000       445   \n",
      "4     2024-06-16        Wireless Mouse               87     PID000       399   \n",
      "...          ...                   ...              ...        ...       ...   \n",
      "1995  2024-07-07  Robot Vacuum Cleaner              447     PID019       431   \n",
      "1996  2024-04-21  Robot Vacuum Cleaner              113     PID019       178   \n",
      "1997  2024-08-04  Robot Vacuum Cleaner              112     PID019       468   \n",
      "1998  2024-08-11  Robot Vacuum Cleaner              410     PID019       420   \n",
      "1999  2024-10-13  Robot Vacuum Cleaner              467     PID019       285   \n",
      "\n",
      "        Location  \n",
      "0      Stuttgart  \n",
      "1     Düsseldorf  \n",
      "2      Frankfurt  \n",
      "3        Leipzig  \n",
      "4       Dortmund  \n",
      "...          ...  \n",
      "1995      Munich  \n",
      "1996      Berlin  \n",
      "1997       Essen  \n",
      "1998     Cologne  \n",
      "1999     Hamburg  \n",
      "\n",
      "[2000 rows x 6 columns]\n"
     ]
    }
   ],
   "source": [
    "df = pd.DataFrame(data)\n",
    "df['Week'] = pd.to_datetime(df['Week'])\n",
    "df['Week'] = df['Week'].dt.date\n",
    "print(df)"
   ]
  },
  {
   "cell_type": "code",
   "execution_count": 7,
   "id": "9b071733",
   "metadata": {},
   "outputs": [
    {
     "name": "stdout",
     "output_type": "stream",
     "text": [
      "            Week          Product Name  Inventory Count Product ID  Quantity  \\\n",
      "0     2024-04-28        Wireless Mouse              498     PID000       411   \n",
      "1     2024-07-07        Wireless Mouse              317     PID000       396   \n",
      "2     2024-09-22        Wireless Mouse              377     PID000       157   \n",
      "3     2024-05-12        Wireless Mouse              195     PID000       445   \n",
      "4     2024-06-16        Wireless Mouse               87     PID000       399   \n",
      "...          ...                   ...              ...        ...       ...   \n",
      "1995  2024-07-07  Robot Vacuum Cleaner              447     PID019       431   \n",
      "1996  2024-04-21  Robot Vacuum Cleaner              113     PID019       178   \n",
      "1997  2024-08-04  Robot Vacuum Cleaner              112     PID019       468   \n",
      "1998  2024-08-11  Robot Vacuum Cleaner              410     PID019       420   \n",
      "1999  2024-10-13  Robot Vacuum Cleaner              467     PID019       285   \n",
      "\n",
      "        Location     Warehouse  \n",
      "0      Stuttgart   Warehouse 1  \n",
      "1     Düsseldorf   Warehouse 2  \n",
      "2      Frankfurt   Warehouse 3  \n",
      "3        Leipzig   Warehouse 4  \n",
      "4       Dortmund   Warehouse 5  \n",
      "...          ...           ...  \n",
      "1995      Munich   Warehouse 6  \n",
      "1996      Berlin   Warehouse 8  \n",
      "1997       Essen   Warehouse 7  \n",
      "1998     Cologne  Warehouse 10  \n",
      "1999     Hamburg   Warehouse 9  \n",
      "\n",
      "[2000 rows x 7 columns]\n"
     ]
    }
   ],
   "source": [
    "unique_locations = df['Location'].unique()\n",
    "warehouse = {loc: f\"Warehouse {i+1}\" for i, loc in enumerate(unique_locations)}\n",
    "df['Warehouse'] = df['Location'].map(warehouse)\n",
    "print(df)"
   ]
  },
  {
   "cell_type": "code",
   "execution_count": 13,
   "id": "88ed1e4e",
   "metadata": {},
   "outputs": [
    {
     "name": "stdout",
     "output_type": "stream",
     "text": [
      "       Inventory Count  Quantity\n",
      "count          2000.00   2000.00\n",
      "mean            274.97    274.77\n",
      "std             127.49    128.77\n",
      "min              50.00     50.00\n",
      "25%             167.00    164.00\n",
      "50%             274.00    276.00\n",
      "75%             385.00    385.00\n",
      "max             499.00    499.00\n",
      "Standard Deviation of Quantity: 128.77\n"
     ]
    }
   ],
   "source": [
    "import numpy as np\n",
    "\n",
    "numerical_summary = df.describe(include=[np.number])\n",
    "print(numerical_summary.round(2))\n",
    "mean_inventory_count = df['Inventory Count'].mean()\n",
    "median_quantity = df['Quantity'].median()\n",
    "std_quantity = df['Quantity'].std()\n",
    "print(f\"Standard Deviation of Quantity: {std_quantity:.2f}\")"
   ]
  },
  {
   "cell_type": "code",
   "execution_count": 15,
   "id": "32d789d7",
   "metadata": {},
   "outputs": [
    {
     "name": "stdout",
     "output_type": "stream",
     "text": [
      "            Week                 Product Name  Inventory Count Product ID  \\\n",
      "0     2024-04-21         Robot Vacuum Cleaner              113     PID019   \n",
      "1     2024-04-21            Drone with Camera              307     PID018   \n",
      "2     2024-04-21             External SSD 1TB              298     PID012   \n",
      "3     2024-04-21             External SSD 1TB              452     PID012   \n",
      "4     2024-04-21              Fitness Tracker              103     PID010   \n",
      "...          ...                          ...              ...        ...   \n",
      "1995  2024-10-13  Noise Cancelling Headphones              468     PID007   \n",
      "1996  2024-10-13              Fitness Tracker              185     PID010   \n",
      "1997  2024-10-13                 Laptop Stand              272     PID015   \n",
      "1998  2024-10-13  Noise Cancelling Headphones               55     PID007   \n",
      "1999  2024-10-13           Smart Home Speaker              209     PID013   \n",
      "\n",
      "      Quantity   Location    Warehouse  Weekly Change Percentage Change  \n",
      "0          178     Berlin  Warehouse 8           <NA>               NaN  \n",
      "1          213     Berlin  Warehouse 8            194           171.68%  \n",
      "2          442     Berlin  Warehouse 8             -9            -2.93%  \n",
      "3          117     Berlin  Warehouse 8            154            51.68%  \n",
      "4          224     Berlin  Warehouse 8           -349           -77.21%  \n",
      "...        ...        ...          ...            ...               ...  \n",
      "1995       242  Stuttgart  Warehouse 1            140            42.68%  \n",
      "1996       371  Stuttgart  Warehouse 1           -283           -60.47%  \n",
      "1997        89  Stuttgart  Warehouse 1             87            47.03%  \n",
      "1998       221  Stuttgart  Warehouse 1           -217           -79.78%  \n",
      "1999       466  Stuttgart  Warehouse 1            154           280.00%  \n",
      "\n",
      "[2000 rows x 9 columns]\n"
     ]
    }
   ],
   "source": [
    "grouped = df.groupby('Location').apply(lambda x: x.sort_values('Week')).reset_index(drop=True)\n",
    "grouped['Weekly Change'] = grouped.groupby('Location')['Inventory Count'].diff()\n",
    "grouped['Weekly Change'] = grouped.groupby('Location')['Inventory Count'].diff().astype('Int64')\n",
    "grouped['Percentage Change'] = grouped.groupby('Location')['Inventory Count'].pct_change() * 100\n",
    "grouped['Percentage Change'] = grouped['Percentage Change'].map(lambda x: f\"{x:.2f}%\" if pd.notnull(x) else \"NaN\")\n",
    "print(grouped)"
   ]
  },
  {
   "cell_type": "code",
   "execution_count": 16,
   "id": "a3ddcd9b",
   "metadata": {},
   "outputs": [
    {
     "name": "stdout",
     "output_type": "stream",
     "text": [
      "                             Cycle Count Frequency  Inventory STD\n",
      "Product Name                                                     \n",
      "Wireless Mouse                                 100         125.62\n",
      "Bluetooth Headphones                           100         124.85\n",
      "Portable Charger                               100         126.75\n",
      "Smartwatch                                     100         121.33\n",
      "Action Camera                                  100         127.90\n",
      "LED Desk Lamp                                  100         134.08\n",
      "E-reader                                       100         122.87\n",
      "Noise Cancelling Headphones                    100         136.62\n",
      "Tablet 10 inch                                 100         129.66\n",
      "Gaming Keyboard                                100         127.02\n",
      "Fitness Tracker                                100         127.98\n",
      "USB-C Hub                                      100         127.35\n",
      "External SSD 1TB                               100         126.81\n",
      "Smart Home Speaker                             100         128.35\n",
      "Android TV Stick                               100         127.30\n",
      "Laptop Stand                                   100         136.74\n",
      "Smart Thermostat                               100         126.79\n",
      "Webcam HD                                      100         129.40\n",
      "Drone with Camera                              100         119.48\n",
      "Robot Vacuum Cleaner                           100         120.73\n"
     ]
    }
   ],
   "source": [
    "df['Cycle Count Frequency'] = df.groupby('Product Name')['Product Name'].transform('count')\n",
    "inventory_std = df.groupby('Product Name')['Inventory Count'].std().rename('Inventory STD').round(2)\n",
    "analysis_df = df[['Product Name', 'Cycle Count Frequency']].drop_duplicates().set_index('Product Name')\n",
    "analysis_df = analysis_df.join(inventory_std)\n",
    "print(analysis_df)"
   ]
  },
  {
   "cell_type": "code",
   "execution_count": 27,
   "id": "d8275311",
   "metadata": {},
   "outputs": [
    {
     "name": "stdout",
     "output_type": "stream",
     "text": [
      "Average Discrepancies by Product:\n",
      "Product Name\n",
      "Action Camera                  133.29\n",
      "Android TV Stick               140.26\n",
      "Bluetooth Headphones           148.34\n",
      "Drone with Camera              143.03\n",
      "E-reader                       144.80\n",
      "External SSD 1TB               168.26\n",
      "Fitness Tracker                140.70\n",
      "Gaming Keyboard                161.90\n",
      "LED Desk Lamp                  163.58\n",
      "Laptop Stand                   164.27\n",
      "Noise Cancelling Headphones    166.30\n",
      "Portable Charger               150.80\n",
      "Robot Vacuum Cleaner           130.61\n",
      "Smart Home Speaker             148.80\n",
      "Smart Thermostat               138.43\n",
      "Smartwatch                     154.34\n",
      "Tablet 10 inch                 151.14\n",
      "USB-C Hub                      141.83\n",
      "Webcam HD                      150.92\n",
      "Wireless Mouse                 153.57\n",
      "Name: Discrepancy, dtype: float64\n",
      "\n",
      "Average Error Percentages by Product:\n",
      "Product Name\n",
      "Action Camera                  77.78%\n",
      "Android TV Stick               69.77%\n",
      "Bluetooth Headphones           82.66%\n",
      "Drone with Camera              87.44%\n",
      "E-reader                       75.56%\n",
      "External SSD 1TB               88.09%\n",
      "Fitness Tracker                75.96%\n",
      "Gaming Keyboard                85.77%\n",
      "LED Desk Lamp                  95.61%\n",
      "Laptop Stand                   94.18%\n",
      "Noise Cancelling Headphones    95.65%\n",
      "Portable Charger               86.60%\n",
      "Robot Vacuum Cleaner           62.91%\n",
      "Smart Home Speaker             83.91%\n",
      "Smart Thermostat               73.36%\n",
      "Smartwatch                     82.18%\n",
      "Tablet 10 inch                 89.41%\n",
      "USB-C Hub                      87.63%\n",
      "Webcam HD                      92.51%\n",
      "Wireless Mouse                 79.03%\n",
      "Name: Error Percentage, dtype: object\n",
      "\n",
      "Average Discrepancies by Location:\n",
      "Location\n",
      "Berlin        148.82\n",
      "Cologne       142.85\n",
      "Dortmund      155.62\n",
      "Düsseldorf    149.34\n",
      "Essen         155.28\n",
      "Frankfurt     154.97\n",
      "Hamburg       141.92\n",
      "Leipzig       156.73\n",
      "Munich        149.21\n",
      "Stuttgart     142.18\n",
      "Name: Discrepancy, dtype: float64\n",
      "\n",
      "Average Error Percentages by Location:\n",
      "Location\n",
      "Berlin        85.10%\n",
      "Cologne       72.79%\n",
      "Dortmund      87.49%\n",
      "Düsseldorf    85.53%\n",
      "Essen         84.75%\n",
      "Frankfurt     80.71%\n",
      "Hamburg       92.84%\n",
      "Leipzig       95.85%\n",
      "Munich        84.34%\n",
      "Stuttgart     64.46%\n",
      "Name: Error Percentage, dtype: object\n"
     ]
    }
   ],
   "source": [
    "df['Discrepancy'] = abs(df['Inventory Count'] - df['Quantity'])\n",
    "df['Error Percentage'] = (df['Discrepancy'] / df['Quantity']) * 100\n",
    "\n",
    "avg_discrepancy_by_product = df.groupby('Product Name')['Discrepancy'].mean()\n",
    "avg_error_percentage_by_product = df.groupby('Product Name')['Error Percentage'].mean().map(lambda x: f\"{x:.2f}%\")\n",
    "avg_error_percentage_by_location = df.groupby('Location')['Error Percentage'].mean().map(lambda x: f\"{x:.2f}%\")\n",
    "avg_discrepancy_by_location = df.groupby('Location')['Discrepancy'].mean().round(2)\n",
    "\n",
    "print(\"Average Discrepancies by Product:\")\n",
    "print(avg_discrepancy_by_product)\n",
    "print(\"\\nAverage Error Percentages by Product:\")\n",
    "print(avg_error_percentage_by_product)\n",
    "\n",
    "print(\"\\nAverage Discrepancies by Location:\")\n",
    "print(avg_discrepancy_by_location)\n",
    "print(\"\\nAverage Error Percentages by Location:\")\n",
    "print(avg_error_percentage_by_location)"
   ]
  },
  {
   "cell_type": "code",
   "execution_count": 28,
   "id": "eb586a41",
   "metadata": {},
   "outputs": [
    {
     "name": "stdout",
     "output_type": "stream",
     "text": [
      "\n",
      "Combined Analysis Data:\n",
      "            Inventory STD  Cycle Count Frequency\n",
      "Berlin             125.48                    219\n",
      "Cologne            126.42                    208\n",
      "Dortmund           132.11                    218\n",
      "Düsseldorf         124.72                    200\n",
      "Essen              126.16                    198\n",
      "Frankfurt          131.66                    206\n",
      "Hamburg            121.31                    185\n",
      "Leipzig            129.82                    183\n",
      "Munich             124.73                    193\n",
      "Stuttgart          126.81                    190\n",
      "\n",
      "Correlation between Cycle Count Frequency and Inventory Variability:\n",
      "                       Inventory STD  Cycle Count Frequency\n",
      "Inventory STD                   1.00                   0.37\n",
      "Cycle Count Frequency           0.37                   1.00\n"
     ]
    }
   ],
   "source": [
    "cycle_count_frequency = df['Location'].value_counts().rename('Cycle Count Frequency')\n",
    "inventory_variability = df.groupby('Location')['Inventory Count'].std().rename('Inventory STD').round(2)\n",
    "analysis_df = pd.DataFrame({\n",
    "    'Inventory STD': inventory_variability,\n",
    "    'Cycle Count Frequency': cycle_count_frequency\n",
    "})\n",
    "\n",
    "print(\"\\nCombined Analysis Data:\")\n",
    "print(analysis_df)\n",
    "\n",
    "if analysis_df.shape[0] > 1:\n",
    "    correlation_result = analysis_df.corr().round(2)\n",
    "    print(\"\\nCorrelation between Cycle Count Frequency and Inventory Variability:\")\n",
    "    print(correlation_result)\n",
    "else:\n",
    "    print(\"\\nNot enough data to calculate correlations.\")"
   ]
  },
  {
   "cell_type": "code",
   "execution_count": 32,
   "id": "6071170d",
   "metadata": {},
   "outputs": [
    {
     "data": {
      "image/png": "[encoded data removed]",
      "text/plain": [
       "<Figure size 1000x600 with 1 Axes>"
      ]
     },
     "metadata": {},
     "output_type": "display_data"
    }
   ],
   "source": [
    "import matplotlib.pyplot as plt\n",
    "import seaborn as sns\n",
    "\n",
    "plt.figure(figsize=(10, 6))\n",
    "sns.barplot(x=product_distribution.index, y=product_distribution.values, palette='viridis')\n",
    "plt.xticks(ticks=[])\n",
    "plt.xlabel('')\n",
    "plt.ylabel('Total Quantity')\n",
    "plt.title('Product Distribution by Quantity')\n",
    "plt.show()"
   ]
  },
  {
   "cell_type": "code",
   "execution_count": 33,
   "id": "c47b377d",
   "metadata": {},
   "outputs": [
    {
     "data": {
      "image/png": "[encoded data removed]",
      "text/plain": [
       "<Figure size 800x600 with 1 Axes>"
      ]
     },
     "metadata": {},
     "output_type": "display_data"
    }
   ],
   "source": [
    "cycle_count_frequency = df['Location'].value_counts()\n",
    "plt.figure(figsize=(8, 6))\n",
    "plt.pie(cycle_count_frequency, labels=cycle_count_frequency.index, autopct='%1.1f%%', startangle=140)\n",
    "plt.axis('equal')\n",
    "plt.show()"
   ]
  },
  {
   "cell_type": "code",
   "execution_count": null,
   "id": "773c9b8a",
   "metadata": {},
   "outputs": [],
   "source": []
  }
 ],
 "metadata": {
  "kernelspec": {
   "display_name": "Python 3 (ipykernel)",
   "language": "python",
   "name": "python3"
  },
  "language_info": {
   "codemirror_mode": {
    "name": "ipython",
    "version": 3
   },
   "file_extension": ".py",
   "mimetype": "text/x-python",
   "name": "python",
   "nbconvert_exporter": "python",
   "pygments_lexer": "ipython3",
   "version": "3.10.9"
  }
 },
 "nbformat": 4,
 "nbformat_minor": 5
}
